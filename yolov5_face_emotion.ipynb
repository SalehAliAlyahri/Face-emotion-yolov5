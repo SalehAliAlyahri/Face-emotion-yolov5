{
 "cells": [
  {
   "cell_type": "code",
   "execution_count": 1,
   "metadata": {
    "ExecuteTime": {
     "end_time": "2021-09-18T17:48:41.355843Z",
     "start_time": "2021-09-18T17:48:40.060351Z"
    }
   },
   "outputs": [],
   "source": [
    "import  numpy as np \n",
    "import torch\n",
    "from matplotlib import pyplot as plt\n",
    "import numpy as np\n",
    "import cv2\n",
    "from PIL import Image\n"
   ]
  },
  {
   "cell_type": "code",
   "execution_count": 2,
   "metadata": {
    "ExecuteTime": {
     "end_time": "2021-09-18T17:48:41.361351Z",
     "start_time": "2021-09-18T17:48:41.358649Z"
    }
   },
   "outputs": [],
   "source": [
    "#%pip install -qr requirements.txt"
   ]
  },
  {
   "cell_type": "code",
   "execution_count": 3,
   "metadata": {
    "ExecuteTime": {
     "end_time": "2021-09-18T17:48:46.836047Z",
     "start_time": "2021-09-18T17:48:41.363727Z"
    }
   },
   "outputs": [
    {
     "name": "stdout",
     "output_type": "stream",
     "text": [
      "\u001b[31m\u001b[1mrequirements:\u001b[0m PyYAML>=5.3.1 not found and is required by YOLOv5, attempting auto-update...\n"
     ]
    },
    {
     "name": "stderr",
     "output_type": "stream",
     "text": [
      "YOLOv5 🚀 v5.0-375-gd1182c4 torch 1.9.0 CPU\n",
      "\n"
     ]
    },
    {
     "name": "stdout",
     "output_type": "stream",
     "text": [
      "Requirement already satisfied: PyYAML>=5.3.1 in /Library/Frameworks/Python.framework/Versions/2.7/lib/python2.7/site-packages (5.3.1)\n",
      "\n",
      "\u001b[31m\u001b[1mrequirements:\u001b[0m 1 package updated per /Users/saleh-yahri/Files/code/yolov5/requirements.txt\n",
      "\u001b[31m\u001b[1mrequirements:\u001b[0m ⚠️ \u001b[1mRestart runtime or rerun command for updates to take effect\u001b[0m\n",
      "\n"
     ]
    },
    {
     "name": "stderr",
     "output_type": "stream",
     "text": [
      "Fusing layers... \n",
      "Model Summary: 232 layers, 7251912 parameters, 0 gradients\n",
      "Adding AutoShape... \n"
     ]
    }
   ],
   "source": [
    "# call the model \n",
    "model = torch.hub.load('/Users/saleh-yahri/Files/code/yolov5', 'custom', path='/Users/saleh-yahri/Files/code/yolov5/best.pt', source='local')\n"
   ]
  },
  {
   "cell_type": "code",
   "execution_count": 17,
   "metadata": {
    "ExecuteTime": {
     "end_time": "2021-08-22T18:20:18.457944Z",
     "start_time": "2021-08-22T18:20:18.455077Z"
    }
   },
   "outputs": [],
   "source": [
    "\n",
    "#model.conf = 0.25"
   ]
  },
  {
   "cell_type": "code",
   "execution_count": 14,
   "metadata": {
    "ExecuteTime": {
     "end_time": "2021-09-18T19:55:37.238566Z",
     "start_time": "2021-09-18T19:55:36.895086Z"
    }
   },
   "outputs": [
    {
     "name": "stderr",
     "output_type": "stream",
     "text": [
      "image 1/1: 368x445 1 happy\n",
      "Speed: 12.0ms pre-process, 284.2ms inference, 0.8ms NMS per image at shape (1, 3, 544, 640)\n"
     ]
    }
   ],
   "source": [
    "#run on specific image \n",
    "img = '/Users/saleh-yahri/Downloads/face4.jpeg'\n",
    "results = model(img)  # includes NMS\n",
    "\n",
    "# Results\n",
    "results.print()  \n",
    "results.show()  # or .show()"
   ]
  },
  {
   "cell_type": "code",
   "execution_count": 5,
   "metadata": {
    "ExecuteTime": {
     "end_time": "2021-08-22T16:47:52.953119Z",
     "start_time": "2021-08-22T16:47:41.908133Z"
    }
   },
   "outputs": [],
   "source": [
    "# run on vidcam\n",
    "vc = cv2.VideoCapture(1)\n",
    "\n",
    "while vc.isOpened():\n",
    "    rval, frame = vc.read()\n",
    "    results = model(frame)\n",
    "    cv2.imshow('YOLO', np.squeeze(results.render()))\n",
    "\n",
    "    if cv2.waitKey(10) & 0xFF == ord('q'):\n",
    "         break\n",
    "vc.release()\n",
    "cv2.destroyAllWindows()"
   ]
  },
  {
   "cell_type": "code",
   "execution_count": 8,
   "metadata": {
    "ExecuteTime": {
     "end_time": "2021-08-22T18:05:47.304457Z",
     "start_time": "2021-08-22T18:02:37.580888Z"
    }
   },
   "outputs": [],
   "source": [
    "# run the model on video \n",
    "capture = cv2.VideoCapture('/Users/saleh-yahri/Downloads/ Emotions_720P HD.mp4')\n",
    "\n",
    "while True:\n",
    "    # is return frame and boolean if read or not \n",
    "    isTrue , frame = capture.read()\n",
    "    results = model(frame)\n",
    "    \n",
    "\n",
    "    # 0xFF==ord('d') mean if press d it will break \n",
    "    #if cv.waitKey(20) & 0xFF==ord('d'):\n",
    "    if isTrue:    \n",
    "        cv2.imshow('YOLO', np.squeeze(results.render()))\n",
    "        if cv2.waitKey(20) & 0xFF==ord('d'):\n",
    "            break            \n",
    "    else:\n",
    "        break"
   ]
  },
  {
   "cell_type": "code",
   "execution_count": null,
   "metadata": {},
   "outputs": [],
   "source": []
  }
 ],
 "metadata": {
  "kernelspec": {
   "display_name": "Python 3",
   "language": "python",
   "name": "python3"
  },
  "language_info": {
   "codemirror_mode": {
    "name": "ipython",
    "version": 3
   },
   "file_extension": ".py",
   "mimetype": "text/x-python",
   "name": "python",
   "nbconvert_exporter": "python",
   "pygments_lexer": "ipython3",
   "version": "3.7.6"
  },
  "toc": {
   "base_numbering": 1,
   "nav_menu": {},
   "number_sections": true,
   "sideBar": true,
   "skip_h1_title": false,
   "title_cell": "Table of Contents",
   "title_sidebar": "Contents",
   "toc_cell": false,
   "toc_position": {},
   "toc_section_display": true,
   "toc_window_display": false
  }
 },
 "nbformat": 4,
 "nbformat_minor": 4
}
